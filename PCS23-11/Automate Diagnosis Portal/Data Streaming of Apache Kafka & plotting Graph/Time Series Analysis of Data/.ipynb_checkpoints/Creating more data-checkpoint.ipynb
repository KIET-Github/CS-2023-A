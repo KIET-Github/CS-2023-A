{
 "cells": [
  {
   "cell_type": "markdown",
   "metadata": {},
   "source": [
    "## Working with our data"
   ]
  },
  {
   "cell_type": "code",
   "execution_count": 20,
   "metadata": {},
   "outputs": [],
   "source": [
    "import pandas as pd\n",
    "import matplotlib.pyplot as plt\n",
    "import numpy as np\n",
    "import seaborn as sns\n",
    "import random\n",
    "import statistics\n",
    "from mpl_toolkits import mplot3d\n",
    "D=pd.read_csv(\"mmc4.csv\")"
   ]
  },
  {
   "cell_type": "code",
   "execution_count": 21,
   "metadata": {},
   "outputs": [
    {
     "data": {
      "text/html": [
       "<div>\n",
       "<style scoped>\n",
       "    .dataframe tbody tr th:only-of-type {\n",
       "        vertical-align: middle;\n",
       "    }\n",
       "\n",
       "    .dataframe tbody tr th {\n",
       "        vertical-align: top;\n",
       "    }\n",
       "\n",
       "    .dataframe thead th {\n",
       "        text-align: right;\n",
       "    }\n",
       "</style>\n",
       "<table border=\"1\" class=\"dataframe\">\n",
       "  <thead>\n",
       "    <tr style=\"text-align: right;\">\n",
       "      <th></th>\n",
       "      <th>date_time</th>\n",
       "      <th>hr</th>\n",
       "      <th>steps</th>\n",
       "      <th>gsr</th>\n",
       "      <th>calories</th>\n",
       "      <th>temp</th>\n",
       "    </tr>\n",
       "  </thead>\n",
       "  <tbody>\n",
       "    <tr>\n",
       "      <th>0</th>\n",
       "      <td>2016-08-15 00:00:00</td>\n",
       "      <td>122.0</td>\n",
       "      <td>0</td>\n",
       "      <td>0.000052</td>\n",
       "      <td>7.5</td>\n",
       "      <td>77.9</td>\n",
       "    </tr>\n",
       "    <tr>\n",
       "      <th>1</th>\n",
       "      <td>2016-08-15 00:01:00</td>\n",
       "      <td>135.0</td>\n",
       "      <td>0</td>\n",
       "      <td>0.000051</td>\n",
       "      <td>8.2</td>\n",
       "      <td>77.9</td>\n",
       "    </tr>\n",
       "    <tr>\n",
       "      <th>2</th>\n",
       "      <td>2016-08-15 00:02:00</td>\n",
       "      <td>111.0</td>\n",
       "      <td>0</td>\n",
       "      <td>0.000052</td>\n",
       "      <td>6.2</td>\n",
       "      <td>77.9</td>\n",
       "    </tr>\n",
       "    <tr>\n",
       "      <th>3</th>\n",
       "      <td>2016-08-15 00:03:00</td>\n",
       "      <td>109.0</td>\n",
       "      <td>0</td>\n",
       "      <td>0.000053</td>\n",
       "      <td>5.6</td>\n",
       "      <td>77.0</td>\n",
       "    </tr>\n",
       "    <tr>\n",
       "      <th>4</th>\n",
       "      <td>2016-08-15 00:04:00</td>\n",
       "      <td>126.0</td>\n",
       "      <td>0</td>\n",
       "      <td>0.000053</td>\n",
       "      <td>9.0</td>\n",
       "      <td>77.0</td>\n",
       "    </tr>\n",
       "  </tbody>\n",
       "</table>\n",
       "</div>"
      ],
      "text/plain": [
       "             date_time     hr  steps       gsr  calories  temp\n",
       "0  2016-08-15 00:00:00  122.0      0  0.000052       7.5  77.9\n",
       "1  2016-08-15 00:01:00  135.0      0  0.000051       8.2  77.9\n",
       "2  2016-08-15 00:02:00  111.0      0  0.000052       6.2  77.9\n",
       "3  2016-08-15 00:03:00  109.0      0  0.000053       5.6  77.0\n",
       "4  2016-08-15 00:04:00  126.0      0  0.000053       9.0  77.0"
      ]
     },
     "execution_count": 21,
     "metadata": {},
     "output_type": "execute_result"
    }
   ],
   "source": [
    "D.head()"
   ]
  },
  {
   "cell_type": "code",
   "execution_count": 22,
   "metadata": {},
   "outputs": [],
   "source": [
    "D=D.drop('steps',axis=1)"
   ]
  },
  {
   "cell_type": "code",
   "execution_count": 23,
   "metadata": {},
   "outputs": [
    {
     "name": "stdout",
     "output_type": "stream",
     "text": [
      "                 date_time     hr       gsr  calories  temp\n",
      "0      2016-08-15 00:00:00  122.0  0.000052       7.5  77.9\n",
      "1      2016-08-15 00:01:00  135.0  0.000051       8.2  77.9\n",
      "2      2016-08-15 00:02:00  111.0  0.000052       6.2  77.9\n",
      "3      2016-08-15 00:03:00  109.0  0.000053       5.6  77.0\n",
      "4      2016-08-15 00:04:00  126.0  0.000053       9.0  77.0\n",
      "...                    ...    ...       ...       ...   ...\n",
      "73435  2016-10-04 23:55:00   85.0  0.000056       1.9  86.9\n",
      "73436  2016-10-04 23:56:00   83.0  0.000056       1.8  86.9\n",
      "73437  2016-10-04 23:57:00   85.0  0.000057       1.9  86.9\n",
      "73438  2016-10-04 23:58:00   93.0  0.000056       3.1  86.9\n",
      "73439  2016-10-04 23:59:00  104.0  0.000057       5.2  86.9\n",
      "\n",
      "[73440 rows x 5 columns]\n"
     ]
    }
   ],
   "source": [
    "for z in ['hr','gsr','calories','temp'] :\n",
    "    mean_value=D[z].mean()\n",
    "    D[z].fillna(value=mean_value, inplace=True)\n",
    "print(D)\n",
    "l=['File1.csv','File2.csv','File3.csv','File4.csv','File5.csv']"
   ]
  },
  {
   "cell_type": "code",
   "execution_count": 24,
   "metadata": {},
   "outputs": [],
   "source": [
    "for i in range(5):\n",
    "    dnew=pd.DataFrame()\n",
    "    c=random.randrange(2,5)\n",
    "    dnew['date_time']=D['date_time']\n",
    "    for j in ['hr','gsr','calories','temp']:\n",
    "        mean_value=D[j].mean()\n",
    "        arr=np.random.uniform((mean_value-c),(mean_value+c),73440)\n",
    "        dnew[j]=arr\n",
    "    dnew.to_csv(l[i])\n",
    "        "
   ]
  },
  {
   "cell_type": "code",
   "execution_count": 29,
   "metadata": {},
   "outputs": [
    {
     "name": "stderr",
     "output_type": "stream",
     "text": [
      "C:\\Users\\admin\\anaconda3\\lib\\site-packages\\ipykernel_launcher.py:6: SettingWithCopyWarning: \n",
      "A value is trying to be set on a copy of a slice from a DataFrame\n",
      "\n",
      "See the caveats in the documentation: https://pandas.pydata.org/pandas-docs/stable/user_guide/indexing.html#returning-a-view-versus-a-copy\n",
      "  \n"
     ]
    },
    {
     "name": "stdout",
     "output_type": "stream",
     "text": [
      "       Unnamed: 0            date_time         hr       gsr  calories  \\\n",
      "0               0  2016-08-15 00:00:00  88.724973  2.646409  0.185832   \n",
      "1               1  2016-08-15 00:01:00  90.952230  1.010615  4.181871   \n",
      "2               2  2016-08-15 00:02:00  90.889575  1.175841  4.681191   \n",
      "3               3  2016-08-15 00:03:00  89.280063  0.084365  1.916401   \n",
      "4               4  2016-08-15 00:04:00  88.463040  2.256157  1.999172   \n",
      "...           ...                  ...        ...       ...       ...   \n",
      "73435       73435  2016-10-04 23:55:00  91.174351  0.012589  4.500456   \n",
      "73436       73436  2016-10-04 23:56:00  88.741720  2.752073  3.587129   \n",
      "73437       73437  2016-10-04 23:57:00  87.906259  0.084365  4.596969   \n",
      "73438       73438  2016-10-04 23:58:00  87.231315  0.084365  0.492652   \n",
      "73439       73439  2016-10-04 23:59:00  88.384498  0.084365  4.380016   \n",
      "\n",
      "            temp  \n",
      "0      88.911581  \n",
      "1      87.875720  \n",
      "2      86.994139  \n",
      "3      88.078322  \n",
      "4      85.190306  \n",
      "...          ...  \n",
      "73435  89.524576  \n",
      "73436  87.693947  \n",
      "73437  90.242228  \n",
      "73438  85.042993  \n",
      "73439  87.860151  \n",
      "\n",
      "[73440 rows x 6 columns]\n"
     ]
    },
    {
     "name": "stderr",
     "output_type": "stream",
     "text": [
      "C:\\Users\\admin\\anaconda3\\lib\\site-packages\\ipykernel_launcher.py:6: SettingWithCopyWarning: \n",
      "A value is trying to be set on a copy of a slice from a DataFrame\n",
      "\n",
      "See the caveats in the documentation: https://pandas.pydata.org/pandas-docs/stable/user_guide/indexing.html#returning-a-view-versus-a-copy\n",
      "  \n"
     ]
    },
    {
     "name": "stdout",
     "output_type": "stream",
     "text": [
      "       Unnamed: 0            date_time         hr       gsr  calories  \\\n",
      "0               0  2016-08-15 00:00:00  89.674927  0.082614  5.203481   \n",
      "1               1  2016-08-15 00:01:00  92.795090  0.082614  3.232101   \n",
      "2               2  2016-08-15 00:02:00  88.678666  2.214694  4.345507   \n",
      "3               3  2016-08-15 00:03:00  90.971469  0.082614  2.020998   \n",
      "4               4  2016-08-15 00:04:00  90.771126  1.788159  5.048922   \n",
      "...           ...                  ...        ...       ...       ...   \n",
      "73435       73435  2016-10-04 23:55:00  90.524024  0.047205  0.119792   \n",
      "73436       73436  2016-10-04 23:56:00  92.672353  0.082614  2.888283   \n",
      "73437       73437  2016-10-04 23:57:00  89.338816  0.561650  2.367147   \n",
      "73438       73438  2016-10-04 23:58:00  92.283519  0.082614  0.098649   \n",
      "73439       73439  2016-10-04 23:59:00  92.268198  2.616293  1.578036   \n",
      "\n",
      "            temp  \n",
      "0      86.687024  \n",
      "1      88.384508  \n",
      "2      90.295155  \n",
      "3      85.142325  \n",
      "4      85.101356  \n",
      "...          ...  \n",
      "73435  89.948006  \n",
      "73436  87.057725  \n",
      "73437  87.609656  \n",
      "73438  86.408909  \n",
      "73439  85.195606  \n",
      "\n",
      "[73440 rows x 6 columns]\n"
     ]
    },
    {
     "name": "stderr",
     "output_type": "stream",
     "text": [
      "C:\\Users\\admin\\anaconda3\\lib\\site-packages\\ipykernel_launcher.py:6: SettingWithCopyWarning: \n",
      "A value is trying to be set on a copy of a slice from a DataFrame\n",
      "\n",
      "See the caveats in the documentation: https://pandas.pydata.org/pandas-docs/stable/user_guide/indexing.html#returning-a-view-versus-a-copy\n",
      "  \n"
     ]
    },
    {
     "name": "stdout",
     "output_type": "stream",
     "text": [
      "       Unnamed: 0            date_time         hr       gsr  calories  \\\n",
      "0               0  2016-08-15 00:00:00  91.005702  2.025405  3.170550   \n",
      "1               1  2016-08-15 00:01:00  90.433442  0.085476  2.872870   \n",
      "2               2  2016-08-15 00:02:00  89.566792  1.883265  4.105338   \n",
      "3               3  2016-08-15 00:03:00  89.255591  1.628521  4.162161   \n",
      "4               4  2016-08-15 00:04:00  88.368283  0.085476  2.638387   \n",
      "...           ...                  ...        ...       ...       ...   \n",
      "73435       73435  2016-10-04 23:55:00  91.155047  0.085476  2.146978   \n",
      "73436       73436  2016-10-04 23:56:00  91.543254  1.805777  3.224288   \n",
      "73437       73437  2016-10-04 23:57:00  91.568588  0.085476  4.315448   \n",
      "73438       73438  2016-10-04 23:58:00  88.512859  0.085476  2.975585   \n",
      "73439       73439  2016-10-04 23:59:00  90.099541  0.085476  1.157069   \n",
      "\n",
      "            temp  \n",
      "0      86.632808  \n",
      "1      89.166716  \n",
      "2      89.244762  \n",
      "3      87.750848  \n",
      "4      88.932260  \n",
      "...          ...  \n",
      "73435  86.379800  \n",
      "73436  85.736876  \n",
      "73437  89.374008  \n",
      "73438  87.296837  \n",
      "73439  88.463229  \n",
      "\n",
      "[73440 rows x 6 columns]\n"
     ]
    },
    {
     "name": "stderr",
     "output_type": "stream",
     "text": [
      "C:\\Users\\admin\\anaconda3\\lib\\site-packages\\ipykernel_launcher.py:6: SettingWithCopyWarning: \n",
      "A value is trying to be set on a copy of a slice from a DataFrame\n",
      "\n",
      "See the caveats in the documentation: https://pandas.pydata.org/pandas-docs/stable/user_guide/indexing.html#returning-a-view-versus-a-copy\n",
      "  \n"
     ]
    },
    {
     "name": "stdout",
     "output_type": "stream",
     "text": [
      "       Unnamed: 0            date_time         hr       gsr  calories  \\\n",
      "0               0  2016-08-15 00:00:00  91.790416  1.197321  4.660916   \n",
      "1               1  2016-08-15 00:01:00  91.415514  0.092815  0.436523   \n",
      "2               2  2016-08-15 00:02:00  87.819440  2.834351  3.369783   \n",
      "3               3  2016-08-15 00:03:00  89.956676  0.092815  1.537357   \n",
      "4               4  2016-08-15 00:04:00  91.911419  0.092815  1.073094   \n",
      "...           ...                  ...        ...       ...       ...   \n",
      "73435       73435  2016-10-04 23:55:00  87.657874  0.092815  3.447689   \n",
      "73436       73436  2016-10-04 23:56:00  87.756669  0.092815  1.624692   \n",
      "73437       73437  2016-10-04 23:57:00  92.011296  0.204897  0.355431   \n",
      "73438       73438  2016-10-04 23:58:00  90.930142  0.092815  4.626430   \n",
      "73439       73439  2016-10-04 23:59:00  89.722937  0.092815  2.468451   \n",
      "\n",
      "            temp  \n",
      "0      88.723348  \n",
      "1      89.302690  \n",
      "2      88.245646  \n",
      "3      88.698998  \n",
      "4      90.076208  \n",
      "...          ...  \n",
      "73435  90.348707  \n",
      "73436  86.881180  \n",
      "73437  87.275206  \n",
      "73438  88.664064  \n",
      "73439  87.497903  \n",
      "\n",
      "[73440 rows x 6 columns]\n"
     ]
    },
    {
     "name": "stderr",
     "output_type": "stream",
     "text": [
      "C:\\Users\\admin\\anaconda3\\lib\\site-packages\\ipykernel_launcher.py:6: SettingWithCopyWarning: \n",
      "A value is trying to be set on a copy of a slice from a DataFrame\n",
      "\n",
      "See the caveats in the documentation: https://pandas.pydata.org/pandas-docs/stable/user_guide/indexing.html#returning-a-view-versus-a-copy\n",
      "  \n"
     ]
    },
    {
     "name": "stdout",
     "output_type": "stream",
     "text": [
      "       Unnamed: 0            date_time         hr       gsr  calories  \\\n",
      "0               0  2016-08-15 00:00:00  90.707491  0.076400  2.334985   \n",
      "1               1  2016-08-15 00:01:00  88.628054  3.046926  3.327419   \n",
      "2               2  2016-08-15 00:02:00  92.747769  0.076400  2.587337   \n",
      "3               3  2016-08-15 00:03:00  90.061332  2.382941  1.456777   \n",
      "4               4  2016-08-15 00:04:00  91.388248  0.076400  4.441935   \n",
      "...           ...                  ...        ...       ...       ...   \n",
      "73435       73435  2016-10-04 23:55:00  90.503333  0.391958  4.067509   \n",
      "73436       73436  2016-10-04 23:56:00  87.176452  0.076400  2.861752   \n",
      "73437       73437  2016-10-04 23:57:00  90.456157  0.076400  1.288563   \n",
      "73438       73438  2016-10-04 23:58:00  89.715148  1.344596  0.465173   \n",
      "73439       73439  2016-10-04 23:59:00  91.628264  0.076400  1.339528   \n",
      "\n",
      "            temp  \n",
      "0      85.322819  \n",
      "1      88.123030  \n",
      "2      86.920044  \n",
      "3      86.594660  \n",
      "4      87.201409  \n",
      "...          ...  \n",
      "73435  85.159588  \n",
      "73436  89.116727  \n",
      "73437  89.176641  \n",
      "73438  86.431050  \n",
      "73439  88.333803  \n",
      "\n",
      "[73440 rows x 6 columns]\n"
     ]
    }
   ],
   "source": [
    "%matplotlib inline\n",
    "import numpy as np\n",
    "for i in l:\n",
    "    df=pd.read_csv(i)\n",
    "    for j in ['hr','gsr','calories','temp']:\n",
    "        df[j][df[j]<0]=0+abs(df[j].mean())\n",
    "        df.round(3)\n",
    "    print(df)\n",
    "   "
   ]
  },
  {
   "cell_type": "code",
   "execution_count": null,
   "metadata": {},
   "outputs": [],
   "source": []
  },
  {
   "cell_type": "code",
   "execution_count": null,
   "metadata": {},
   "outputs": [],
   "source": []
  }
 ],
 "metadata": {
  "kernelspec": {
   "display_name": "Python 3",
   "language": "python",
   "name": "python3"
  },
  "language_info": {
   "codemirror_mode": {
    "name": "ipython",
    "version": 3
   },
   "file_extension": ".py",
   "mimetype": "text/x-python",
   "name": "python",
   "nbconvert_exporter": "python",
   "pygments_lexer": "ipython3",
   "version": "3.8.8"
  }
 },
 "nbformat": 4,
 "nbformat_minor": 4
}
